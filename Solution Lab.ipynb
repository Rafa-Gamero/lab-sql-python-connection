{
 "cells": [
  {
   "cell_type": "code",
   "execution_count": 1,
   "metadata": {},
   "outputs": [
    {
     "name": "stdout",
     "output_type": "stream",
     "text": [
      "Requirement already satisfied: sqlalchemy in c:\\users\\casa\\anaconda3\\lib\\site-packages (2.0.35)\n",
      "Requirement already satisfied: typing-extensions>=4.6.0 in c:\\users\\casa\\anaconda3\\lib\\site-packages (from sqlalchemy) (4.11.0)\n",
      "Requirement already satisfied: greenlet!=0.4.17 in c:\\users\\casa\\anaconda3\\lib\\site-packages (from sqlalchemy) (3.0.1)\n",
      "Note: you may need to restart the kernel to use updated packages.\n"
     ]
    }
   ],
   "source": [
    "pip install sqlalchemy\n"
   ]
  },
  {
   "cell_type": "code",
   "execution_count": 6,
   "metadata": {},
   "outputs": [
    {
     "name": "stdout",
     "output_type": "stream",
     "text": [
      "     customer_id  rentals_05_2005  rentals_06_2005  difference\n",
      "0              1              2.0              7.0        -5.0\n",
      "1              2              1.0              1.0         0.0\n",
      "2              3              2.0              4.0        -2.0\n",
      "3              4              0.0              6.0        -6.0\n",
      "4              5              3.0              5.0        -2.0\n",
      "..           ...              ...              ...         ...\n",
      "593          595              1.0              2.0        -1.0\n",
      "594          596              6.0              2.0         4.0\n",
      "595          597              2.0              3.0        -1.0\n",
      "596          598              0.0              1.0        -1.0\n",
      "597          599              1.0              4.0        -3.0\n",
      "\n",
      "[598 rows x 4 columns]\n"
     ]
    }
   ],
   "source": [
    "import pandas as pd\n",
    "from sqlalchemy import create_engine\n",
    "import getpass\n",
    "password = getpass.getpass()\n",
    "\n",
    "bd =\"sakila\"\n",
    "connection_string = 'mysql+pymysql://root:' + password + '@localhost/'+bd\n",
    "engine = create_engine(connection_string)\n",
    "engine\n",
    "\n",
    "def rentals_month(engine, month, year):\n",
    "    \"\"\"\n",
    "    Retrieve rental data from the rental table for a specified month and year.\n",
    "    \n",
    "    Parameters:\n",
    "    - engine: SQLAlchemy engine object to connect to the database.\n",
    "    - month: Integer representing the month.\n",
    "    - year: Integer representing the year.\n",
    "    \n",
    "    Returns:\n",
    "    - DataFrame containing rental data for the specified month and year.\n",
    "    \"\"\"\n",
    "    query = f\"\"\"\n",
    "    SELECT rental_id, rental_date, customer_id\n",
    "    FROM rental\n",
    "    WHERE MONTH(rental_date) = {month} AND YEAR(rental_date) = {year}\n",
    "    \"\"\"\n",
    "    df = pd.read_sql(query, engine)\n",
    "    return df\n",
    "\n",
    "# 2. Function to count rentals per customer for a specific month and year\n",
    "def rental_count_month(df, month, year):\n",
    "    \"\"\"\n",
    "    Count the number of rentals per customer for a specific month and year.\n",
    "    \n",
    "    Parameters:\n",
    "    - df: DataFrame containing rental data.\n",
    "    - month: Integer representing the month.\n",
    "    - year: Integer representing the year.\n",
    "    \n",
    "    Returns:\n",
    "    - DataFrame with customer_id and a column named 'rentals_<month>_<year>' \n",
    "      containing the number of rentals for each customer.\n",
    "    \"\"\"\n",
    "    rental_counts = df.groupby('customer_id')['rental_id'].count().reset_index()\n",
    "    rental_counts.columns = ['customer_id', f'rentals_{month:02}_{year}']\n",
    "    return rental_counts\n",
    "\n",
    "# 3. Function to compare rental data for two different months\n",
    "def compare_rentals(df1, df2):\n",
    "    \"\"\"\n",
    "    Compare the number of rentals between two months.\n",
    "    \n",
    "    Parameters:\n",
    "    - df1: DataFrame containing rental counts for the first month.\n",
    "    - df2: DataFrame containing rental counts for the second month.\n",
    "    \n",
    "    Returns:\n",
    "    - A merged DataFrame with customer_id, rental counts for both months, and the difference in rentals.\n",
    "    \"\"\"\n",
    "    # Merging two dataframes on 'customer_id' (outer join to include all customers)\n",
    "    merged_df = pd.merge(df1, df2, on='customer_id', how='outer').fillna(0)\n",
    "    \n",
    "    # Extracting the rental columns\n",
    "    rental_columns = [col for col in merged_df.columns if 'rentals' in col]\n",
    "    \n",
    "    # Calculating the difference between the two months\n",
    "    merged_df['difference'] = merged_df[rental_columns[0]] - merged_df[rental_columns[1]]\n",
    "    \n",
    "    return merged_df\n",
    "\n",
    "# Example usage:\n",
    "\n",
    "# 1. Retrieve rental data for May and June 2005\n",
    "may_rentals = rentals_month(engine, 5, 2005)\n",
    "june_rentals = rentals_month(engine, 6, 2005)\n",
    "\n",
    "# 2. Count the number of rentals per customer for May and June 2005\n",
    "may_rental_count = rental_count_month(may_rentals, 5, 2005)\n",
    "june_rental_count = rental_count_month(june_rentals, 6, 2005)\n",
    "\n",
    "# 3. Compare rentals between May and June 2005\n",
    "comparison = compare_rentals(may_rental_count, june_rental_count)\n",
    "\n",
    "# 4. Print the comparison DataFrame\n",
    "print(comparison)"
   ]
  }
 ],
 "metadata": {
  "kernelspec": {
   "display_name": "base",
   "language": "python",
   "name": "python3"
  },
  "language_info": {
   "codemirror_mode": {
    "name": "ipython",
    "version": 3
   },
   "file_extension": ".py",
   "mimetype": "text/x-python",
   "name": "python",
   "nbconvert_exporter": "python",
   "pygments_lexer": "ipython3",
   "version": "3.12.4"
  }
 },
 "nbformat": 4,
 "nbformat_minor": 2
}
